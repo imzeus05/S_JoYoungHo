{
 "cells": [
  {
   "cell_type": "markdown",
   "metadata": {},
   "source": [
    "# Decisoin Tree\n",
    "\n",
    "## 정보 이득 높은 것을 얻기 위해 엔트로피 낮은 걸 찾는다."
   ]
  },
  {
   "cell_type": "code",
   "execution_count": 8,
   "metadata": {
    "collapsed": false
   },
   "outputs": [
    {
     "name": "stdout",
     "output_type": "stream",
     "text": [
      "0.970950594455\n",
      "[[1, 'yes'], [1, 'yes'], [0, 'no']]\n"
     ]
    }
   ],
   "source": [
    "#from math import log\n",
    "import math\n",
    "\n",
    "dataSet = [[1, 1, 'yes'],\n",
    "           [1, 1, 'yes'],\n",
    "           [1, 0, 'no'],\n",
    "           [0, 1, 'no'],\n",
    "           [0, 1, 'no']]\n",
    "labels = ['no surfacing', 'flippers']\n",
    "\n",
    "numEntries = len(dataSet)\n",
    "labelCounts = {}\n",
    "# 가능한 모든 분류 항목에 대한 딕셔너리 생성\n",
    "for featVec in dataSet:\n",
    "    currentLabel = featVec[-1]\n",
    "    if currentLabel not in labelCounts.keys():\n",
    "        labelCounts[currentLabel] = 0\n",
    "    labelCounts[currentLabel] += 1\n",
    "# 섀넌 엔트로피 계산\n",
    "shannonEnt = 0.0\n",
    "for key in labelCounts:\n",
    "    prob = float(labelCounts[key]) / numEntries\n",
    "    shannonEnt -= prob * math.log(prob, 2)  # 밑수가 2인 로그\n",
    "    \n",
    "print shannonEnt\n",
    "\n",
    "# extand는 리스트로 추가\n",
    "# append는 리스트 하나에 원소로 추가\n",
    "axis = 0\n",
    "value = 1\n",
    "retDataSet = []  # 분할 리스트 생성\n",
    "for featVec in dataSet:\n",
    "    if featVec[axis] == value:\n",
    "        reducedFeatVec = featVec[:axis]\n",
    "        reducedFeatVec.extend(featVec[axis+1:])\n",
    "        retDataSet.append(reducedFeatVec)\n",
    "        \n",
    "print retDataSet"
   ]
  },
  {
   "cell_type": "code",
   "execution_count": 3,
   "metadata": {
    "collapsed": false
   },
   "outputs": [
    {
     "name": "stdout",
     "output_type": "stream",
     "text": [
      "H( (0.5,0.5) ) =  [0.5, 0.5]\n",
      "H( (0.7,0.3) ) =  [0.3602012209808308, 0.5210896782498619]\n",
      "math domain error\n"
     ]
    }
   ],
   "source": [
    "import math\n",
    "print \"H( (0.5,0.5) ) = \", [-p*math.log(p,2) for p in [0.5,0.5]]\n",
    "print \"H( (0.7,0.3) ) = \", [-p*math.log(p,2) for p in [0.7,0.3]]\n",
    "try:\n",
    "    [-p*math.log(p,2) for p in [1.0,0.0]]\n",
    "except Exception as e:\n",
    "    print e"
   ]
  },
  {
   "cell_type": "code",
   "execution_count": 16,
   "metadata": {
    "collapsed": false
   },
   "outputs": [
    {
     "name": "stdout",
     "output_type": "stream",
     "text": [
      "0.970950594455\n",
      "0\n"
     ]
    }
   ],
   "source": [
    "\n",
    "\n",
    "\n",
    "\n",
    "from math import log\n",
    "\n",
    "# calShannonEnt 함수\n",
    "# dataSet: 엔트로피 계산을 원하는 데이터 집합\n",
    "# shannonEnt: 엔트로피 값\n",
    "def calcShannonEnt(dataSet):\n",
    "    numEntries = len(dataSet)\n",
    "    labelCounts = {}\n",
    "    # 가능한 모든 분류 항목에 대한 딕셔너리 생성\n",
    "    for featVec in dataSet:\n",
    "        currentLabel = featVec[-1]\n",
    "        if currentLabel not in labelCounts.keys():\n",
    "            labelCounts[currentLabel] = 0\n",
    "        labelCounts[currentLabel] += 1\n",
    "    # 섀넌 엔트로피 계산\n",
    "    shannonEnt = 0.0\n",
    "    for key in labelCounts:\n",
    "        prob = float(labelCounts[key]) / numEntries\n",
    "        shannonEnt -= prob * log(prob, 2)  # 밑수가 2인 로그\n",
    "    return shannonEnt\n",
    "\n",
    "\n",
    "# splitDataSet 함수\n",
    "# dataSet: 분할하고자 하는 데이터 집합\n",
    "# axis: 분할하고자 하는 속성\n",
    "# value: 반환할 속성의 값\n",
    "# retDataSet: 분할된 데이터 집합\n",
    "def splitDataSet(dataSet, axis, value):\n",
    "    retDataSet = []  # 분할 리스트 생성\n",
    "    for featVec in dataSet:\n",
    "        if featVec[axis] == value:\n",
    "            reducedFeatVec = featVec[:axis]\n",
    "            reducedFeatVec.extend(featVec[axis+1:])\n",
    "            retDataSet.append(reducedFeatVec)\n",
    "    return retDataSet\n",
    "\n",
    "\n",
    "dataSet = [[1, 1, 'yes'],\n",
    "           [1, 1, 'yes'],\n",
    "           [1, 0, 'no'],\n",
    "           [0, 1, 'no'],\n",
    "           [0, 1, 'no']]\n",
    "labels = ['no surfacing', 'flippers']\n",
    "\n",
    "numFeatures = len(dataSet[0]) - 1  # 속성 개수\n",
    "baseEntropy = calcShannonEnt(dataSet)  # 분할 전 데이터 집합의 엔트로피\n",
    "print baseEntropy\n",
    "\n",
    "bestInfoGain = 0.0; bestFeature = -1\n",
    "for i in range(numFeatures):\n",
    "    featList = [example[i] for example in dataSet]\n",
    "    uniqueVals = set(featList)\n",
    "    newEntropy = 0.0\n",
    "    for value in uniqueVals:\n",
    "        subDataSet = splitDataSet(dataSet, i, value)\n",
    "        prob = len(subDataSet) / float(len(dataSet))\n",
    "        newEntropy += prob * calcShannonEnt(subDataSet)\n",
    "\n",
    "    infoGain = baseEntropy - newEntropy\n",
    "    if(infoGain > bestInfoGain):\n",
    "        bestInfoGain = infoGain\n",
    "        bestFeature = i\n",
    "        \n",
    "print bestFeature\n"
   ]
  }
 ],
 "metadata": {
  "kernelspec": {
   "display_name": "Python 2",
   "language": "python",
   "name": "python2"
  },
  "language_info": {
   "codemirror_mode": {
    "name": "ipython",
    "version": 2
   },
   "file_extension": ".py",
   "mimetype": "text/x-python",
   "name": "python",
   "nbconvert_exporter": "python",
   "pygments_lexer": "ipython2",
   "version": "2.7.11"
  }
 },
 "nbformat": 4,
 "nbformat_minor": 0
}
