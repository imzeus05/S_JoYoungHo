{
 "cells": [
  {
   "cell_type": "markdown",
   "metadata": {},
   "source": [
    "- 마크다운 사용법 http://sergeswin.com/1013\n",
    "- 수식은 LaTex와 동일 https://en.wikibooks.org/wiki/LaTeX/Mathematics\n",
    "\n",
    "## 5장. 로지스틱 회귀\n",
    "\n",
    "### 학습목표\n",
    "- 시그모이드 함수와 로지스틱 회귀 분류기\n",
    "- 처음 등장하는 최적화 알고리즘\n",
    "- 기울기 하강 최적화 알고리즘\n",
    "- 누락된 값이 있는 데이터 처리하기\n",
    "\n",
    "### 로지스틱 회귀의 일반적인 접근 방법\n",
    "1. 수집: 모든 방법\n",
    "2. 준비: 수치형 값은 거리를 계산하는 데 필요하다. 구조적인 데이터 형태가 가장 좋다.\n",
    "3. 분석: 모든 방법\n",
    "4. 훈련: 훈련하는 데 대부분의 시간을 보내며, 이 단계에서 데이터를 분류하기 위해 최적의 계수를 찾는다.\n",
    "5. 검사: 훈련 단계를 마치고 나면 분류는 빠르고 쉽게 진행된다.\n",
    "6. 사용: 이 응용 프로그램은 약간의 입력 데이터가 있어야 하며, 수치형으로 구성된 값을 출력한다.<br>그런 다음 응용 프로그램은 입력 데이터에 간단한 회귀 계산을 적용하고 입력 데이터가 속하는 분류 항목을 결정한다.<br>또한, 응용 프로그램은 계산된 분류 항목에서 몇 가지 동작을 수행한다.\n",
    "\n",
    "\n",
    "### 5.1 로지스틱 회귀와 시그모이드 함수로 분류하기: 다루기 쉬운 계단 함수\n",
    "#### 로지스틱 회귀\n",
    "> 장점: 계산 비용이 적고, 구현하기 쉬우며, 결과 해석을 위한 지식 표현이 쉽다.<br>\n",
    "단점: 언더피팅(underfitting) 경향이 있어, 정확도가 낮게 나올 수도 있다.<br>\n",
    "활용: 수치형 값, 명목형 값\n",
    "\n",
    "##### 시그모이드(sigmoid) 함수\n",
    ">헤비사이드(Heaviside) 단계 함수가 0과 1 사이의 지점을 너무나 순간적으로 움직여서 분할을 어렵게 한다. <br>\n",
    "시그모이드 함수는 수학적으로 분할을 쉽게 할 수 있다.<br>\n",
    "방정식은 다음과 같다.\n",
    "$$ \\sigma(z) = \\frac{1}{1+{e}^{-z}} $$\n",
    "$x$가 0일 때, 시그모이드 값은 0.5이다.<br>\n",
    "$x$ 값이 증가하면 시그모이드 값은 1에 가까워지고, $x$ 값이 감소하면 시그모이드는 0에 가까워진다.<br>\n",
    "아래 그림처럼 축소하면 계단 함수처럼 보인다.<br>\n",
    "<img src='python_week06/img/01.jpg' width='500px'>\n",
    "\n",
    "### 5.2 가장 좋은 회귀 계수를 찾기 위해 최적화 사용하기\n",
    ">시그모이드 함수의 입력은 $z$이며 다음과 같이 주어진다.<br>\n",
    "$$ z = w_{0}x_{0} + w_{1}x_{1} + w_{2}x_{2} + \\dots + w_{n}x_{n} $$\n",
    "위 식을 벡터로 표현하면 $ z = w^Tx $ 처럼 쓸 수 있다.<br>\n",
    "의미: 2개의 숫자 벡터의 각 요소들을 곱한 다음 다시 하나의 수를 구하기 위해 서로 더한다.<br>\n",
    "벡터 $x$는 입력 데이터이며, 가장 좋은 계수 $w$를 찾고자 한다.<br>\n",
    "\n",
    "#### 5.2.1 기울기 상승\n",
    "> 기울기 상승은 함수에서 최대 지점을 찾고자 할 때, 이 지점으로 이동하는 가장 좋은 방법이 기울기의 방향에 있다는 생각을 기반으로 한다.<br>\n",
    "기울기는 $\\nabla$ 기호로 쓰며, 함수 $f(x,y)$의 기울기는 다음과 같은 방정식으로 표현된다.\n",
    "$$\n",
    "\\nabla f(x,y) = \n",
    " \\begin{pmatrix}\n",
    "  \\frac{\\partial f(x,y)}{\\partial x}\\\\\n",
    "  \\frac{\\partial f(x,y)}{\\partial y}\n",
    " \\end{pmatrix}\n",
    "$$\n",
    "이 기울기는 $\\frac{\\partial f(x,y)}{\\partial x}$만큼 $x$방향으로, $\\frac{\\partial f(x,y)}{\\partial y}$만큼 $y$방향으로 이동하는 것을 의미한다.<br>\n",
    "함수 $f(x,y)$는 따로 정의가 필요하며, 평가가 이루어지는 지점 근처에서 미분이 가능해야 한다.<br>\n",
    "<br>\n",
    "그림 5.2에 보이는 기울기 상승 알고리즘은 기울기가 제공한 방향으로 한 단계 이동한다.<br>\n",
    "기울기 연산자는 항상 가장 크게 증하하는 방향으로 향하게 된다. 크기 또는 단계 크기는 매개변수 $\\alpha$에 의해 제공된다.<br>\n",
    "기울기 상승 알고리즘은 다음과 같이 벡터로 표현할 수 있다.\n",
    "$$\n",
    "w:=w+\\alpha\\nabla f(w)\n",
    "$$\n",
    "이러한 단계는 멈춤 조건(단계의 반복 횟수를 만족하거나 알고리즘이 확실한 오차 범위 안에 있게 되는 경우)에 도달할 때까지 되풀이된다.<br>\n",
    "<img src='python_week06/img/02.jpg' width='500px'>\n",
    "\n",
    ">>**기울기 하강**<br>\n",
    "기울기 하강은 더하기가 빼기로 바뀌는 것 말고는 기울기 상승과 동일하다.\n",
    "$$\n",
    "w:=w-\\alpha\\nabla f(w)\n",
    "$$\n",
    "기울기 하강은 함수를 최대화하는 것이 아니라 최소화 하고자 하는 것이다.\n",
    "\n",
    "#### 5.2.2. 훈련: 기울기 상승을 사용하여 가장 좋은 매개변수 찾기\n",
    ">그림 5.3에는 100개의 데이터가 점으로 표현되어 있다. 각각의 점은 두 가지 수치형 속성 X1과 X2를 가진다.\n",
    "데이터에 대한 로지스틱 회귀 모델을 구축하는 데 가장 알맞은 매개변수를 찾기 위해 기울기 상승을 시도한다.\n",
    "주어진 데이터 집합에 가장 좋은 가중치를 찾으면 된다.\n",
    "<img src='python_week06/img/03.jpg' width='500px'>\n",
    "\n",
    ">기울기 상승을 위한 의사코드는 다음과 같다.<br>\n",
    ">>*Start with the weights all set to 1*<br>\n",
    "//모두 1로 설정된 가중치를 가지고 시작<br>\n",
    "*Repeat R number of times:*<br>\n",
    "//R번 반복<br>\n",
    "&nbsp; &nbsp; &nbsp; *Calculate the gradient of the entire dataset*<br>\n",
    "&nbsp; &nbsp; &nbsp; //입력 데이터 집합의 기울기를 계산<br>\n",
    "&nbsp; &nbsp; &nbsp; *Update the weights vector by alpha$^*$gradient*<br>\n",
    "&nbsp; &nbsp; &nbsp; //알파$^*$기울기로 가중치 벡터를 변경<br>\n",
    "&nbsp; &nbsp; &nbsp; *Return the weights vector*<br>\n",
    "&nbsp; &nbsp; &nbsp; //가중치 벡터 반환<br>\n",
    "\n",
    ">다음은 기울기 상승 수행 코드이다."
   ]
  },
  {
   "cell_type": "code",
   "execution_count": 26,
   "metadata": {
    "collapsed": false
   },
   "outputs": [
    {
     "data": {
      "text/plain": [
       "matrix([[ 4.12414349],\n",
       "        [ 0.48007329],\n",
       "        [-0.6168482 ]])"
      ]
     },
     "execution_count": 26,
     "metadata": {},
     "output_type": "execute_result"
    }
   ],
   "source": [
    "from python_week06 import logRegres\n",
    "import numpy as np\n",
    "\n",
    "def loadDataSet():\n",
    "    dataMat = []; labelMat = []\n",
    "    fr = open('python_week06/testSet.txt')\n",
    "    for line in fr.readlines():\n",
    "        lineArr = line.strip().split()\n",
    "        dataMat.append([1.0, float(lineArr[0]), float(lineArr[1])])\n",
    "        labelMat.append(int(lineArr[2]))\n",
    "    return dataMat,labelMat\n",
    "\n",
    "def sigmoid(inX):\n",
    "    return 1.0/(1+np.exp(-inX))\n",
    "\n",
    "def gradAscent(dataMatIn, classLabels):\n",
    "    dataMatrix = np.mat(dataMatIn)             #convert to NumPy matrix\n",
    "    labelMat = np.mat(classLabels).transpose() #convert to NumPy matrix\n",
    "    m,n = np.shape(dataMatrix)\n",
    "    alpha = 0.001\n",
    "    maxCycles = 500\n",
    "    weights = np.ones((n,1))\n",
    "    for k in range(maxCycles):              #heavy on matrix operations\n",
    "        h = sigmoid(dataMatrix*weights)     #matrix mult\n",
    "        error = (labelMat - h)              #vector subtraction\n",
    "        weights = weights + alpha * dataMatrix.transpose()* error #matrix mult\n",
    "    return weights\n",
    "\n",
    "dataArr, labelMat = loadDataSet()\n",
    "gradAscent(dataArr, labelMat)"
   ]
  },
  {
   "cell_type": "markdown",
   "metadata": {
    "collapsed": true
   },
   "source": [
    "#### 5.2.3 분석: 의사결정 경계선 플롯하기\n",
    ">하나의 선을 만드는 데 사용된 가중치의 집합을 해결하고, 분류 항목이 서로 다른 데이터를 분리한다.<br>"
   ]
  },
  {
   "cell_type": "code",
   "execution_count": 63,
   "metadata": {
    "collapsed": false
   },
   "outputs": [
    {
     "name": "stdout",
     "output_type": "stream",
     "text": [
      "기울기 상승을 500회 반복한 로지스틱 회귀 최적선\n"
     ]
    },
    {
     "data": {
      "image/png": "[encoded data removed]",
      "text/plain": [
       "<matplotlib.figure.Figure at 0xaa5c748>"
      ]
     },
     "metadata": {},
     "output_type": "display_data"
    }
   ],
   "source": [
    "from python_week06 import logRegres\n",
    "import numpy as np\n",
    "\n",
    "def plotBestFit(weights):\n",
    "    import matplotlib.pyplot as plt\n",
    "    dataMat,labelMat=loadDataSet()\n",
    "    dataArr = np.array(dataMat)\n",
    "    n = np.shape(dataArr)[0] \n",
    "    xcord1 = []; ycord1 = []\n",
    "    xcord2 = []; ycord2 = []\n",
    "    for i in range(n):\n",
    "        if int(labelMat[i])== 1:\n",
    "            xcord1.append(dataArr[i,1]); ycord1.append(dataArr[i,2])\n",
    "        else:\n",
    "            xcord2.append(dataArr[i,1]); ycord2.append(dataArr[i,2])\n",
    "    fig = plt.figure()\n",
    "    ax = fig.add_subplot(111)\n",
    "    ax.scatter(xcord1, ycord1, s=30, c='red', marker='s')\n",
    "    ax.scatter(xcord2, ycord2, s=30, c='green')\n",
    "    x = np.arange(-3.0, 3.0, 0.1)\n",
    "    y = (-weights[0]-weights[1]*x)/weights[2]\n",
    "    ax.plot(x, y)\n",
    "    plt.xlabel('X1'); plt.ylabel('X2');\n",
    "    plt.show()\n",
    "\n",
    "#그래프 내부에 띄우기\n",
    "%matplotlib inline\n",
    "reload(logRegres)\n",
    "dataArr, labelMat = logRegres.loadDataSet()\n",
    "weights = logRegres.gradAscent(dataArr, labelMat)\n",
    "print('기울기 상승을 500회 반복한 로지스틱 회귀 최적선')\n",
    "plotBestFit(weights.getA())"
   ]
  },
  {
   "cell_type": "markdown",
   "metadata": {
    "collapsed": true
   },
   "source": [
    "#### 5.2.4 훈련: 확률적인 기울기 상승\n",
    ">앞서 알아본 최적화 알고리즘의 기울기 상승은 갱싱된 모든 데이터 집합을 사용한다.<br>\n",
    "100개의 예제를 다루어서 괜찮았지만 데이터가 수천 개의 속성을 포함한 10억 개의 데이터 점을 가지고 있다면 불필요한 계산을 너무 많이 하게 된다.<br>\n",
    "이 방법의 대안은 한 번에 단 하나의 사례를 사용하여 가중치를 갱신하는 것이다.<br>\n",
    "이러한 방법을 **확률 기울기 상승**이라고 한다.<br>\n",
    "확률 기울기 상승은 **온라인 학습 알고리즘** 중 하나이다.<br>\n",
    "모든 데이터를 한꺼번에 처리하는 **일괄 처리**방법을 쓰지 않고 새로운 데이터가 들어올 때마다 분류기를 점진적으로 갱신하기 때문이다.<br>\n",
    "\n",
    ">확률 기울기 상승을 위한 의사결정 코드는 다음과 같다.<br>\n",
    ">>*Start with the weights all set to 1*<br>\n",
    "//모두 1로 설정된 가중치를 가지고 시작<br>\n",
    "*For each piece of data in the dataset:*<br>\n",
    "//데이터 집합 내 각각의 데이터를 반복<br>\n",
    "&nbsp; &nbsp; &nbsp; *Calculate the gradient of one piece of data*<br>\n",
    "&nbsp; &nbsp; &nbsp; //데이터 중 하나의 기울기를 계산<br>\n",
    "&nbsp; &nbsp; &nbsp; *Update the weights vector by alpha$^*$gradient*<br>\n",
    "&nbsp; &nbsp; &nbsp; //알파$^*$기울기로 가중치 벡터를 변경<br>\n",
    "&nbsp; &nbsp; &nbsp; *Return the weights vector*<br>\n",
    "&nbsp; &nbsp; &nbsp; //가중치 벡터 반환<br>\n",
    "\n",
    ">다음은 확률 기울기 상승 수행 코드이다."
   ]
  },
  {
   "cell_type": "code",
   "execution_count": 68,
   "metadata": {
    "collapsed": false
   },
   "outputs": [
    {
     "name": "stdout",
     "output_type": "stream",
     "text": [
      "확률 기울기 상승 결과의 최적선\n"
     ]
    },
    {
     "data": {
      "image/png": "[encoded data removed]",
      "text/plain": [
       "<matplotlib.figure.Figure at 0x8624128>"
      ]
     },
     "metadata": {},
     "output_type": "display_data"
    }
   ],
   "source": [
    "from python_week06 import logRegres\n",
    "import numpy as np\n",
    "\n",
    "def stocGradAscent0(dataMatrix, classLabels):\n",
    "    m,n = np.shape(dataMatrix)\n",
    "    alpha = 0.01\n",
    "    weights = np.ones(n)   #initialize to all ones\n",
    "    for i in range(m):\n",
    "        h = sigmoid(sum(dataMatrix[i]*weights))\n",
    "        error = classLabels[i] - h\n",
    "        weights = weights + alpha * error * dataMatrix[i]\n",
    "    return weights\n",
    "\n",
    "#그래프 내부에 띄우기\n",
    "%matplotlib inline\n",
    "reload(logRegres)\n",
    "dataArr, labelMat = logRegres.loadDataSet()\n",
    "weights = stocGradAscent0(np.array(dataArr), labelMat)\n",
    "print('확률 기울기 상승 결과의 최적선')\n",
    "logRegres.plotBestFit(weights)"
   ]
  },
  {
   "cell_type": "markdown",
   "metadata": {
    "collapsed": true
   },
   "source": [
    ">기울기 상승 코드는 데이터 집합을 500회 반복하여 얻은 결과이고 확률 기울기 상승보다 나은 결과를 보인다.<br>\n",
    "하지만 최적화 알고리즘이 얼마나 잘 분류하는지 확인 하려면 이것이 수렴하는지 확인해야 한다.<br>\n",
    "수렴은 고정된 값에 도달하는 매개변수로서, 그 값은 계속해서 변한다.<br>\n",
    "확률 기울기 상승 알고리즘으로 데이터 집합을 200회 반복 실행하도록 수정했다.<br>\n",
    "그림 5.6은 반복 횟수에 따라 가중치가 어떻게 변하는지 보여준다.<br>\n",
    "<img src='python_week06/img/04.jpg' width='500px'>\n",
    "X2로 표시한 가중치 2는 안정된 값에 도달하는데 50회(?) 밖에 걸리지 않았지만 0과 1이라는 가중치 값의 간격이 너무 길다.<br>\n",
    "또한 큰 변동은 멈추었지만 주기적인 작은 변동이 있다.<br>\n",
    "이러한 변동이 있다는 것은 확실하게 분류되지 않는 데이터가 있다는 것이며, 이러한 데이터가 가중치에 큰 변화를 주는 원인이다.<br>\n",
    "\n",
    ">다음은 수정된 확률 기울기 상승 수행 코드이다."
   ]
  },
  {
   "cell_type": "code",
   "execution_count": 72,
   "metadata": {
    "collapsed": false
   },
   "outputs": [
    {
     "name": "stdout",
     "output_type": "stream",
     "text": [
      "수정된 확률 기울기 상승 결과의 최적선\n"
     ]
    },
    {
     "data": {
      "image/png": "[encoded data removed]",
      "text/plain": [
       "<matplotlib.figure.Figure at 0xaea0be0>"
      ]
     },
     "metadata": {},
     "output_type": "display_data"
    }
   ],
   "source": [
    "from python_week06 import logRegres\n",
    "import numpy as np\n",
    "\n",
    "def stocGradAscent1(dataMatrix, classLabels, numIter=150):\n",
    "    m,n = np.shape(dataMatrix)\n",
    "    weights = np.ones(n)   #initialize to all ones\n",
    "    for j in range(numIter):\n",
    "        dataIndex = range(m)\n",
    "        for i in range(m):\n",
    "            alpha = 4/(1.0+j+i)+0.0001    #apha decreases with iteration, does not \n",
    "            randIndex = int(np.random.uniform(0,len(dataIndex)))#go to 0 because of the constant\n",
    "            h = sigmoid(sum(dataMatrix[randIndex]*weights))\n",
    "            error = classLabels[randIndex] - h\n",
    "            weights = weights + alpha * error * dataMatrix[randIndex]\n",
    "            del(dataIndex[randIndex])\n",
    "    return weights\n",
    "\n",
    "#그래프 내부에 띄우기\n",
    "%matplotlib inline\n",
    "reload(logRegres)\n",
    "dataArr, labelMat = logRegres.loadDataSet()\n",
    "weights = stocGradAscent1(np.array(dataArr), labelMat)\n",
    "#weights = stocGradAscent1(np.array(dataArr), labelMat, 500)\n",
    "print('수정된 확률 기울기 상승 결과의 최적선')\n",
    "logRegres.plotBestFit(weights)"
   ]
  },
  {
   "cell_type": "markdown",
   "metadata": {
    "collapsed": true
   },
   "source": [
    ">그림 5.7에서는 개선된 알고리즘의 가중치 변화를 보여준다.<br>\n",
    "<img src='python_week06/img/05.jpg' width='500px'>\n",
    "그림 5.7을 그림 5.6과 비교해 보면 다음과 같은 부분이 달라졌다.\n",
    "1. 그림 5.7에는 그림 5.6에서 처럼 규칙적인 운동이 보이지 않는데, 임의의 벡터 선택하는 알고리즘 때문이다.\n",
    "2. 그림 5.6보다 그림 5.7이 가로 축과 더 많이 닮았다. 이것은 더 빠르게 가충치들이 수렴한다는 것이다.\n",
    "\n",
    "### 5.3 예제: 말의 배앓이 치사율 평가하기\n",
    ">배앓이를 하는 말이 살 것인지 죽을 것인지 예측하기 위해 로지스틱 회귀를 사용해 보자.<br>\n",
    "말의 배앓이(horse colic)라는 용어는 말의 위장 통증을 설명하는 말이다.<br>\n",
    "데이터 집합은 배앓이 전문 병원에서 말의 증상을 확인하는 측정 항목들로 구성되어 있다.<br>\n",
    "측정 항목 중 일부는 말의 통증 정도처럼 주관적이며 몇몇 항목은 잘못 측정되었다.<br>\n",
    "\n",
    ">>말의 배앓이 치사율 평가를 위해 로지스틱 회귀 사용하기\n",
    "1. 수집: 제공된 텍스트 파일\n",
    "2. 준비: 파이썬에서 텍스트 파일을 구문 분석하고 누락된 값을 채운다.\n",
    "3. 분석: 시작적으로 데이터를 검사한다.\n",
    "4. 훈련: 가장 좋은 계수를 찾기 위해 최적화 알고리즘을 사용한다.\n",
    "5. 검사: 성공적인 측정을 위해 오류율을 확인하게 된다. 오류율에 따라 훈련 단계로 되돌아가게 하는데, 이는 반복 횟수와 단계의 크기를 조절하여 더 좋은 회귀 계수 값을 찾도록 하기 위함이다.\n",
    "6. 사용: 말의 증상을 수집하기 위해 간단한 커맨드라인 프로그램을 구축한다. 그리고 어렵지 않게 생사를 진단한다.\n",
    "\n",
    "#### 5.3.1 준비: 데이터 누락된 값 다루기\n",
    ">누락된 데이터 채우기 위한 선택 사항\n",
    "- 사용 가능한 모든 데이터에서 속성의 평균값을 사용한다.\n",
    "- 알려지지 않은 값은 -1과 같은 특별한 값으로 채운다.\n",
    "- 사례를 무시한다.\n",
    "- 유사한 아이템들로부터의 평균값을 사용한다.\n",
    "- 값을 예측하기 위해 다른 기계 학습 알고리즘을 사용한다.\n",
    "\n",
    ">전처리\n",
    "1. 수집된 데이터 집합의 알 수 없는 모든 값을 0으로 대체 (Numpy 배열은 누락 값을 처리 할 수 없음)\n",
    "2. 검사 데이터의 분류 항목 표시 누락은 무시 (kNN 등의 일부 알고리즘에서는 사용 불가)\n",
    "\n",
    "#### 5.3.2 검사: 로지스틱 회귀로 분류하기\n",
    ">로지스틱 회귀로 사례를 분류하기 위해 많은 것을 할 필요는 없다.<br>\n",
    "이전에 최적화된 가중치로 곱해진 검사 벡터를 시그모이드로 계산하는 것이 전부이다.<br>\n",
    "시그모이드 함수가 0.5보다 크면 분류는 1이고, 그렇지 않으면 0이다.<br>\n",
    "\n",
    ">다음은 분류 함수 수행 코드이다."
   ]
  },
  {
   "cell_type": "code",
   "execution_count": 79,
   "metadata": {
    "collapsed": false
   },
   "outputs": [
    {
     "name": "stdout",
     "output_type": "stream",
     "text": [
      "the error rate of this test is: 0.417910\n",
      "the error rate of this test is: 0.328358\n",
      "the error rate of this test is: 0.283582\n",
      "the error rate of this test is: 0.358209\n",
      "the error rate of this test is: 0.343284\n",
      "the error rate of this test is: 0.283582\n",
      "the error rate of this test is: 0.343284\n",
      "the error rate of this test is: 0.268657\n",
      "the error rate of this test is: 0.373134\n",
      "the error rate of this test is: 0.268657\n",
      "after 10 iterations the average error rate is: 0.326866\n"
     ]
    },
    {
     "name": "stderr",
     "output_type": "stream",
     "text": [
      "python_week06\\logRegres.py:19: RuntimeWarning: overflow encountered in exp\n",
      "  dataMat.append([1.0, float(lineArr[0]), float(lineArr[1])])\n"
     ]
    }
   ],
   "source": [
    "from python_week06 import logRegres\n",
    "import numpy as np\n",
    "\n",
    "def classifyVector(inX, weights):\n",
    "    prob = sigmoid(sum(inX*weights))\n",
    "    if prob > 0.5: return 1.0\n",
    "    else: return 0.0\n",
    "\n",
    "def colicTest():\n",
    "    frTrain = open('python_week06/horseColicTraining.txt'); frTest = open('python_week06/horseColicTest.txt')\n",
    "    trainingSet = []; trainingLabels = []\n",
    "    for line in frTrain.readlines():\n",
    "        currLine = line.strip().split('\\t')\n",
    "        lineArr =[]\n",
    "        for i in range(21):\n",
    "            lineArr.append(float(currLine[i]))\n",
    "        trainingSet.append(lineArr)\n",
    "        trainingLabels.append(float(currLine[21]))\n",
    "    trainWeights = stocGradAscent1(np.array(trainingSet), trainingLabels, 1000)\n",
    "    errorCount = 0; numTestVec = 0.0\n",
    "    for line in frTest.readlines():\n",
    "        numTestVec += 1.0\n",
    "        currLine = line.strip().split('\\t')\n",
    "        lineArr =[]\n",
    "        for i in range(21):\n",
    "            lineArr.append(float(currLine[i]))\n",
    "        if int(classifyVector(np.array(lineArr), trainWeights))!= int(currLine[21]):\n",
    "            errorCount += 1\n",
    "    errorRate = (float(errorCount)/numTestVec)\n",
    "    print \"the error rate of this test is: %f\" % errorRate\n",
    "    return errorRate\n",
    "\n",
    "def multiTest():\n",
    "    numTests = 10; errorSum=0.0\n",
    "    for k in range(numTests):\n",
    "        errorSum += colicTest()\n",
    "    print \"after %d iterations the average error rate is: %f\" % (numTests, errorSum/float(numTests))\n",
    "\n",
    "    \n",
    "reload(logRegres)\n",
    "logRegres.multiTest()"
   ]
  },
  {
   "cell_type": "code",
   "execution_count": null,
   "metadata": {
    "collapsed": true
   },
   "outputs": [],
   "source": []
  },
  {
   "cell_type": "code",
   "execution_count": null,
   "metadata": {
    "collapsed": true
   },
   "outputs": [],
   "source": []
  }
 ],
 "metadata": {
  "kernelspec": {
   "display_name": "Python 2",
   "language": "python",
   "name": "python2"
  },
  "language_info": {
   "codemirror_mode": {
    "name": "ipython",
    "version": 2
   },
   "file_extension": ".py",
   "mimetype": "text/x-python",
   "name": "python",
   "nbconvert_exporter": "python",
   "pygments_lexer": "ipython2",
   "version": "2.7.11"
  }
 },
 "nbformat": 4,
 "nbformat_minor": 0
}
