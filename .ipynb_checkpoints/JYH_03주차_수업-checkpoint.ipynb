{
 "cells": [
  {
   "cell_type": "code",
   "execution_count": 8,
   "metadata": {
    "collapsed": false
   },
   "outputs": [
    {
     "name": "stdout",
     "output_type": "stream",
     "text": [
      "C:\\Users\\YoungHo\n",
      "C:\\Users\\YoungHo\\week03\n"
     ]
    }
   ],
   "source": [
    "%cd\n",
    "mywd=\"C:\\Users\\YoungHo\\week03\"\n",
    "%cd {mywd}"
   ]
  },
  {
   "cell_type": "code",
   "execution_count": 20,
   "metadata": {
    "collapsed": false
   },
   "outputs": [
    {
     "name": "stdout",
     "output_type": "stream",
     "text": [
      "4\n",
      "[[-1.  -1.1]\n",
      " [-1.  -1. ]\n",
      " [ 0.   0. ]\n",
      " [ 0.  -0.1]]\n",
      "[ 1.48660687  1.41421356  0.          0.1       ]\n",
      "[2 3 1 0]\n",
      "B\n",
      "B\n",
      "A\n"
     ]
    }
   ],
   "source": [
    "from numpy import *\n",
    "dataSet = array([[1.0,1.1],[1.0,1.0],[0,0],[0,0.1]])\n",
    "labels = ['A','A','B','B']\n",
    "inX = [0,0]\n",
    "k = 3\n",
    "\n",
    "dataSetSize = dataSet.shape[0] # dataSet 행렬의 row 갯수\n",
    "print dataSetSize\n",
    "\n",
    "diffMat = tile(inX, (dataSetSize,1)) - dataSet # dataSet과 inX의 차를 계산\n",
    "print diffMat\n",
    "\n",
    "sqDiffMat = diffMat**2\n",
    "sqlDistances = sqDiffMat.sum(axis=1)\n",
    "distances = sqlDistances**0.5\n",
    "print distances\n",
    "\n",
    "sortedDistIndicies = distances.argsort()\n",
    "print sortedDistIndicies\n",
    "\n",
    "classCount={}\n",
    "for i in range(k):\n",
    "    voteIlabel = labels[sortedDistIndicies[i]]\n",
    "    print voteIlabel\n",
    "    \n"
   ]
  }
 ],
 "metadata": {
  "kernelspec": {
   "display_name": "Python 2",
   "language": "python",
   "name": "python2"
  },
  "language_info": {
   "codemirror_mode": {
    "name": "ipython",
    "version": 2
   },
   "file_extension": ".py",
   "mimetype": "text/x-python",
   "name": "python",
   "nbconvert_exporter": "python",
   "pygments_lexer": "ipython2",
   "version": "2.7.11"
  }
 },
 "nbformat": 4,
 "nbformat_minor": 0
}
