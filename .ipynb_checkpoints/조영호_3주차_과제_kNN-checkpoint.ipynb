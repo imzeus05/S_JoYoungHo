{
 "cells": [
  {
   "cell_type": "markdown",
   "metadata": {},
   "source": [
    "# 조영호 3주차 과제 kNN\n",
    "### - 필기체 숫자 인식 프로그램"
   ]
  },
  {
   "cell_type": "markdown",
   "metadata": {},
   "source": [
    "## kNN.py 생성"
   ]
  },
  {
   "cell_type": "code",
   "execution_count": 46,
   "metadata": {
    "collapsed": false
   },
   "outputs": [
    {
     "name": "stdout",
     "output_type": "stream",
     "text": [
      "Overwriting python_week03/kNN.py\n"
     ]
    }
   ],
   "source": [
    "%%writefile python_week03/kNN.py\n",
    "'''\n",
    "Created on Sep 16, 2010\n",
    "kNN: k Nearest Neighbors\n",
    "\n",
    "Input:      inX: vector to compare to existing dataset (1xN)\n",
    "            dataSet: size m data set of known vectors (NxM)\n",
    "            labels: data set labels (1xM vector)\n",
    "            k: number of neighbors to use for comparison (should be an odd number)\n",
    "            \n",
    "Output:     the most popular class label\n",
    "\n",
    "@author: pbharrin\n",
    "'''\n",
    "\n",
    "from numpy import *\n",
    "import operator\n",
    "from os import listdir\n",
    "\n",
    "def classify0(inX, dataSet, labels, k):\n",
    "    dataSetSize = dataSet.shape[0]\n",
    "    diffMat = tile(inX, (dataSetSize,1)) - dataSet\n",
    "    sqDiffMat = diffMat**2\n",
    "    sqDistances = sqDiffMat.sum(axis=1)\n",
    "    distances = sqDistances**0.5\n",
    "    sortedDistIndicies = distances.argsort()     \n",
    "    classCount={}          \n",
    "    for i in range(k):\n",
    "        voteIlabel = labels[sortedDistIndicies[i]]\n",
    "        classCount[voteIlabel] = classCount.get(voteIlabel,0) + 1\n",
    "    sortedClassCount = sorted(classCount.iteritems(), key=operator.itemgetter(1), reverse=True)\n",
    "    return sortedClassCount[0][0]\n",
    "    \n",
    "def img2vector(filename):\n",
    "    returnVect = zeros((1,1024))\n",
    "    fr = open(filename)\n",
    "    for i in range(32):\n",
    "        lineStr = fr.readline()\n",
    "        for j in range(32):\n",
    "            returnVect[0,32*i+j] = int(lineStr[j])\n",
    "    return returnVect\n",
    "\n",
    "def handwritingClassTest():\n",
    "    hwLabels = []\n",
    "    trainingFileList = listdir('python_week03/trainingDigits')           #load the training set\n",
    "    m = len(trainingFileList)\n",
    "    trainingMat = zeros((m,1024))\n",
    "    for i in range(m):\n",
    "        fileNameStr = trainingFileList[i]\n",
    "        fileStr = fileNameStr.split('.')[0]     #take off .txt\n",
    "        classNumStr = int(fileStr.split('_')[0])\n",
    "        hwLabels.append(classNumStr)\n",
    "        trainingMat[i,:] = img2vector('python_week03/trainingDigits/%s' % fileNameStr)\n",
    "\n",
    "    testFileList = listdir('python_week03/testDigits')        #iterate through the test set\n",
    "    errorCount = 0.0\n",
    "    mTest = len(testFileList)\n",
    "    for i in range(mTest):\n",
    "        fileNameStr = testFileList[i]\n",
    "        fileStr = fileNameStr.split('.')[0]     #take off .txt\n",
    "        classNumStr = int(fileStr.split('_')[0])\n",
    "        vectorUnderTest = img2vector('python_week03/testDigits/%s' % fileNameStr)\n",
    "        classifierResult = classify0(vectorUnderTest, trainingMat, hwLabels, 10)\n",
    "        #print \"the classifier came back with: %d, the real answer is: %d\" % (classifierResult, classNumStr)\n",
    "        if (classifierResult != classNumStr): \n",
    "            errorCount += 1.0\n",
    "            print \"error file is: %s answer: %d, classifier: %d\" % (fileNameStr, classNumStr, classifierResult)\n",
    "\n",
    "    print \"\\nthe total number of errors is: %d\" % errorCount\n",
    "    print \"\\nthe total error rate is: %f\" % (errorCount/float(mTest))"
   ]
  },
  {
   "cell_type": "markdown",
   "metadata": {},
   "source": [
    "## kNNRun.py 생성"
   ]
  },
  {
   "cell_type": "code",
   "execution_count": 42,
   "metadata": {
    "collapsed": false
   },
   "outputs": [
    {
     "name": "stdout",
     "output_type": "stream",
     "text": [
      "Overwriting python_week03/kNNRun.py\n"
     ]
    }
   ],
   "source": [
    "%%writefile python_week03/kNNRun.py\n",
    "import kNN\n",
    "reload(kNN)\n",
    "kNN.handwritingClassTest()"
   ]
  },
  {
   "cell_type": "markdown",
   "metadata": {},
   "source": [
    "## kNNRun.py 실행"
   ]
  },
  {
   "cell_type": "code",
   "execution_count": 47,
   "metadata": {
    "collapsed": false
   },
   "outputs": [
    {
     "name": "stdout",
     "output_type": "stream",
     "text": [
      "error file is: 1_86.txt answer: 1, classifier: 7\n",
      "error file is: 2_91.txt answer: 2, classifier: 9\n",
      "error file is: 3_11.txt answer: 3, classifier: 9\n",
      "error file is: 3_43.txt answer: 3, classifier: 2\n",
      "error file is: 3_46.txt answer: 3, classifier: 2\n",
      "error file is: 3_49.txt answer: 3, classifier: 8\n",
      "error file is: 4_2.txt answer: 4, classifier: 9\n",
      "error file is: 4_46.txt answer: 4, classifier: 0\n",
      "error file is: 5_33.txt answer: 5, classifier: 9\n",
      "error file is: 5_42.txt answer: 5, classifier: 3\n",
      "error file is: 5_43.txt answer: 5, classifier: 6\n",
      "error file is: 8_11.txt answer: 8, classifier: 6\n",
      "error file is: 8_35.txt answer: 8, classifier: 1\n",
      "error file is: 8_36.txt answer: 8, classifier: 1\n",
      "error file is: 8_39.txt answer: 8, classifier: 1\n",
      "error file is: 8_45.txt answer: 8, classifier: 1\n",
      "error file is: 8_65.txt answer: 8, classifier: 1\n",
      "error file is: 8_8.txt answer: 8, classifier: 3\n",
      "error file is: 9_14.txt answer: 9, classifier: 1\n",
      "error file is: 9_60.txt answer: 9, classifier: 7\n",
      "\n",
      "the total number of errors is: 20\n",
      "\n",
      "the total error rate is: 0.021142\n"
     ]
    }
   ],
   "source": [
    "%run python_week03/kNNRun.py"
   ]
  }
 ],
 "metadata": {
  "kernelspec": {
   "display_name": "Python 2",
   "language": "python",
   "name": "python2"
  },
  "language_info": {
   "codemirror_mode": {
    "name": "ipython",
    "version": 2
   },
   "file_extension": ".py",
   "mimetype": "text/x-python",
   "name": "python",
   "nbconvert_exporter": "python",
   "pygments_lexer": "ipython2",
   "version": "2.7.11"
  }
 },
 "nbformat": 4,
 "nbformat_minor": 0
}
