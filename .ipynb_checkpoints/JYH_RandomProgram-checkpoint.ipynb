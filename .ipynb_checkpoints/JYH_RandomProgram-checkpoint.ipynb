{
 "cells": [
  {
   "cell_type": "markdown",
   "metadata": {},
   "source": [
    "## 랜덤 프로그램"
   ]
  },
  {
   "cell_type": "code",
   "execution_count": 490,
   "metadata": {
    "collapsed": false
   },
   "outputs": [
    {
     "name": "stdout",
     "output_type": "stream",
     "text": [
      "오늘 발표자는 조영호 입니다!\n"
     ]
    }
   ],
   "source": [
    "import numpy as np\n",
    "\n",
    "x = np.random.randint(1,3)\n",
    "pregentor = \"\"\n",
    "if(x==1):\n",
    "    pregentor = \"박민지\"\n",
    "else:\n",
    "    pregentor = \"조영호\"\n",
    "    \n",
    "print \"오늘 발표자는 \" + pregentor + \" 입니다!\""
   ]
  },
  {
   "cell_type": "markdown",
   "metadata": {
    "collapsed": false
   },
   "source": [
    "## 랜덤 프로그램 통계적 검정\n",
    "\n",
    "### 가설 검정(Hypothesis Test)\n",
    "모집단의 특성에 대해 어떤 가설을 설정하고 이 가설의 타당도 여부를 표본의 데이터로 판단하여 통계적 의사결정을 내리는 추론방법을 말한다. 그리고 통계적 추리란 표본 자료에 근거하여 그 표본이 추출된 모집단의 특성에 대하여 일반화하는 것을 가리킨다.\n",
    "\n",
    "##### 연구가설 (Research Hypothesis, 혹은 대립가설, Alternative Hypothesis)\n",
    "연구가설은 이론이나 선행연구에 근거하여 설정된 가설로서 \"~관계가 있다\"라든가 \"~ 차이가 있다\" 혹은 \"~효과가 있다\"라는 식으로 표현되며, 기호로는 H1으로 표기한다.\n",
    "\n",
    "##### 영가설(혹은 귀무가설, Null Hypothesis)\n",
    "가설 검정시 연구가설과 내용이 대립되는 가설을 설정하는데, 이를 영가설이라고 한다. 영가설은 보통 \"~관계가 없다\", \"~차이가 없다\", \"~효과가 없다\"와 같이 부정적으로 표현되며, 기호로는 H0으로 표기한다. \n",
    "\n",
    "이 두 가설은 상호배타적(Mutually Exclusive)이며, 동시에 모집단의 모수가 취할 수 있는 모든 가능한 값을 포함하도록(Mutually Exhaustive)정의된다. 예컨데, 성별과 소득간의 관계를 연구가설과 영가설로 표현하면 다음과 같다.\n",
    "\n",
    "H1: 성별과 소득간에는 관계가 있다.(혹은 남성의 소득과 여성의 소득간에는 차이가 있다.)\n",
    "H0: 성별과 소득간에는 관계가 없다.(혹은 남성의 소득과 여성의 소득간에는 차이가 없다.)\n",
    "\n",
    "\n",
    "\n",
    "\n",
    "#### 1-sample t-test\n",
    "The 1-sample t-test is used when we want to compare a sample mean to a population mean (which we already know). The average British man is 175.3 cm tall. A survey recorded the heights of 10 UK men and we want to know whether the mean of the sample is different from the population mean.\n",
    "\n",
    "\n",
    "#### 연구가설 H1 : 랜덤 프로그램으로 BMJ, JYH 나온 횟수가 같다.\n",
    "#### 영가설     H0 : 랜덤 프로그램으로 BMJ, JYH 나온 횟수가 같지 않다.\n",
    "#### 독립변수       : 연구원\n",
    "#### 종속변수       : 횟수\n",
    "#### 결론              : 1000 번 시행시 p-value 0.000 이므로 H0 기각, H1 채택\n",
    "\n",
    "\n",
    "##### Reference\n",
    "http://iaingallagher.tumblr.com/post/50980987285/t-tests-in-python\n"
   ]
  },
  {
   "cell_type": "code",
   "execution_count": 557,
   "metadata": {
    "collapsed": false
   },
   "outputs": [
    {
     "name": "stdout",
     "output_type": "stream",
     "text": [
      "1000\n",
      "The t-statistic is 30.796 and the p-value is 0.000.\n"
     ]
    }
   ],
   "source": [
    "import numpy as np\n",
    "import pandas as pd\n",
    "import matplotlib.pyplot as plt\n",
    "import scipy.stats as stats\n",
    "\n",
    "\n",
    "import numpy as np\n",
    "arrRepregentor = []\n",
    "\n",
    "for i in range(1000):\n",
    "    x = np.random.randint(1,3)\n",
    "    arrRepregentor.append(x)\n",
    "    \n",
    "print len(arrRepregentor)\n",
    "\n",
    "\n",
    "# 1-sample t-test\n",
    "one_sample = stats.ttest_1samp(arrRepregentor, 1)\n",
    "print \"The t-statistic is %.3f and the p-value is %.3f.\" % one_sample\n"
   ]
  }
 ],
 "metadata": {
  "kernelspec": {
   "display_name": "Python 2",
   "language": "python",
   "name": "python2"
  },
  "language_info": {
   "codemirror_mode": {
    "name": "ipython",
    "version": 2
   },
   "file_extension": ".py",
   "mimetype": "text/x-python",
   "name": "python",
   "nbconvert_exporter": "python",
   "pygments_lexer": "ipython2",
   "version": "2.7.11"
  }
 },
 "nbformat": 4,
 "nbformat_minor": 0
}
