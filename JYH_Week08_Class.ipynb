{
 "cells": [
  {
   "cell_type": "markdown",
   "metadata": {},
   "source": [
    "## 6장. 지지 벡터 머신"
   ]
  },
  {
   "cell_type": "code",
   "execution_count": 49,
   "metadata": {
    "collapsed": false
   },
   "outputs": [
    {
     "name": "stdout",
     "output_type": "stream",
     "text": [
      "x : [[2 3]\n",
      " [4 1]]\n",
      "y : [ 1 -1]\n",
      "a_1 : [a0 a1]\n",
      "a0 + a1 : a0 + a1\n",
      "a0a0y0y0x0x0 : 13*a0**2\n",
      "a0a1y0y1x0x1 : -11*a0*a1\n",
      "a1a0y1y0x1x0 : -11*a0*a1\n",
      "a1a1y1y1x1x1 : 17*a1**2\n",
      "Ld : -13*a0**2/2 + 11*a0*a1 + a0 - 17*a1**2/2 + a1\n",
      "sumay : a0 - a1\n",
      "sp.solve(sumay) : [{a0: a1}]\n",
      "sp.solve(sumay, a0) : [a1]\n",
      "Ld_0 : -4*a1**2 + 2*a1\n",
      "sp.solve(Ld_0, a1) : [0, 1/2]\n",
      "sp.solve(Ld_1) : [1/4]\n",
      "ayx : [[2*a0 -3*a1]\n",
      " [4*a0 -a1]]\n",
      "ayx.sum(axis = 1) : [2*a0 - 3*a1 4*a0 - a1]\n",
      "sumayx : [2*a0 - 4*a1 3*a0 - a1]\n"
     ]
    },
    {
     "data": {
      "text/plain": [
       "[]"
      ]
     },
     "execution_count": 49,
     "metadata": {},
     "output_type": "execute_result"
    }
   ],
   "source": [
    "# 심볼릭 프로그래밍 - 미지의 변수 처리 (임의의 변수 생성?)\n",
    "import sympy as sp\n",
    "import numpy as np\n",
    "\n",
    "x = np.array([[2,3],[4,1]])\n",
    "y = np.array([1,-1])\n",
    "\n",
    "print 'x : %s' % x\n",
    "print 'y : %s' % y\n",
    "\n",
    "a0, a1 = sp.symbols('a:2')\n",
    "\n",
    "a_1 = np.array([a0, a1])\n",
    "print 'a_1 : %s' % a_1\n",
    "\n",
    "print 'a0 + a1 : %s' % (a0 + a1)\n",
    "\n",
    "a0a0y0y0x0x0 = a0 * a0 * y[0] * y[0] * np.inner(x[0],x[0])\n",
    "a0a1y0y1x0x1 = a0 * a1 * y[0] * y[1] * np.inner(x[0],x[1])\n",
    "a1a0y1y0x1x0 = a1 * a0 * y[1] * y[0] * np.inner(x[1],x[0])\n",
    "a1a1y1y1x1x1 = a1 * a1 * y[1] * y[1] * np.inner(x[1],x[1])\n",
    "\n",
    "print 'a0a0y0y0x0x0 : %s' % a0a0y0y0x0x0\n",
    "print 'a0a1y0y1x0x1 : %s' % a0a1y0y1x0x1\n",
    "print 'a1a0y1y0x1x0 : %s' % a1a0y1y0x1x0\n",
    "print 'a1a1y1y1x1x1 : %s' % a1a1y1y1x1x1\n",
    "\n",
    "Ld = a0 + a1 - (a0a0y0y0x0x0 + a0a1y0y1x0x1 + a1a0y1y0x1x0 + a1a1y1y1x1x1)/2\n",
    "print 'Ld : %s' % Ld\n",
    "\n",
    "sumay = sum(a_1 * y)\n",
    "print 'sumay : %s' % sumay\n",
    "\n",
    "print 'sp.solve(sumay) : %s' % sp.solve(sumay)\n",
    "print 'sp.solve(sumay, a0) : %s' % sp.solve(sumay, a0)\n",
    "\n",
    "Ld_0 = Ld.subs(a0, a1)\n",
    "print 'Ld_0 : %s' % Ld_0\n",
    "\n",
    "print 'sp.solve(Ld_0, a1) : %s' % sp.solve(Ld_0, a1)\n",
    "\n",
    "Ld_1 = sp.diff(Ld_0, a1)\n",
    "print 'sp.solve(Ld_1) : %s' % sp.solve(Ld_1)\n",
    "\n",
    "\n",
    "ayx = a_1 * y * x\n",
    "print 'ayx : %s' % ayx\n",
    "\n",
    "print 'ayx.sum(axis = 1) : %s' % ayx.sum(axis = 1)\n",
    "\n",
    "sumayx = a0 * y[0] * x[0] + a1 * y[1] * x[1] # ayx.sum(axis = 1)\n",
    "print 'sumayx : %s' % sumayx\n",
    "\n",
    "sp.solve(sumayx, [a0, a1])\n",
    "sp.solve(sumayx, a1)\n",
    "# sumayx.subs(a0, a1)"
   ]
  },
  {
   "cell_type": "code",
   "execution_count": null,
   "metadata": {
    "collapsed": false
   },
   "outputs": [],
   "source": []
  },
  {
   "cell_type": "code",
   "execution_count": null,
   "metadata": {
    "collapsed": true
   },
   "outputs": [],
   "source": []
  },
  {
   "cell_type": "code",
   "execution_count": null,
   "metadata": {
    "collapsed": true
   },
   "outputs": [],
   "source": []
  },
  {
   "cell_type": "code",
   "execution_count": null,
   "metadata": {
    "collapsed": true
   },
   "outputs": [],
   "source": []
  },
  {
   "cell_type": "code",
   "execution_count": null,
   "metadata": {
    "collapsed": true
   },
   "outputs": [],
   "source": []
  },
  {
   "cell_type": "code",
   "execution_count": null,
   "metadata": {
    "collapsed": true
   },
   "outputs": [],
   "source": []
  },
  {
   "cell_type": "code",
   "execution_count": null,
   "metadata": {
    "collapsed": true
   },
   "outputs": [],
   "source": []
  }
 ],
 "metadata": {
  "kernelspec": {
   "display_name": "Python 2",
   "language": "python",
   "name": "python2"
  },
  "language_info": {
   "codemirror_mode": {
    "name": "ipython",
    "version": 2
   },
   "file_extension": ".py",
   "mimetype": "text/x-python",
   "name": "python",
   "nbconvert_exporter": "python",
   "pygments_lexer": "ipython2",
   "version": "2.7.11"
  }
 },
 "nbformat": 4,
 "nbformat_minor": 0
}
