{
 "cells": [
  {
   "cell_type": "markdown",
   "metadata": {},
   "source": [
    "## 6장. 지지 벡터 머신"
   ]
  },
  {
   "cell_type": "code",
   "execution_count": 49,
   "metadata": {
    "collapsed": false
   },
   "outputs": [
    {
     "name": "stdout",
     "output_type": "stream",
     "text": [
      "x : [[2 3]\n",
      " [4 1]]\n",
      "y : [ 1 -1]\n",
      "a_1 : [a0 a1]\n",
      "a0 + a1 : a0 + a1\n",
      "a0a0y0y0x0x0 : 13*a0**2\n",
      "a0a1y0y1x0x1 : -11*a0*a1\n",
      "a1a0y1y0x1x0 : -11*a0*a1\n",
      "a1a1y1y1x1x1 : 17*a1**2\n",
      "Ld : -13*a0**2/2 + 11*a0*a1 + a0 - 17*a1**2/2 + a1\n",
      "sumay : a0 - a1\n",
      "sp.solve(sumay) : [{a0: a1}]\n",
      "sp.solve(sumay, a0) : [a1]\n",
      "Ld_0 : -4*a1**2 + 2*a1\n",
      "sp.solve(Ld_0, a1) : [0, 1/2]\n",
      "sp.solve(Ld_1) : [1/4]\n",
      "ayx : [[2*a0 -3*a1]\n",
      " [4*a0 -a1]]\n",
      "ayx.sum(axis = 1) : [2*a0 - 3*a1 4*a0 - a1]\n",
      "sumayx : [2*a0 - 4*a1 3*a0 - a1]\n"
     ]
    },
    {
     "data": {
      "text/plain": [
       "[]"
      ]
     },
     "execution_count": 49,
     "metadata": {},
     "output_type": "execute_result"
    }
   ],
   "source": [
    "# 심볼릭 프로그래밍 - 미지의 변수 처리 (임의의 변수 생성?)\n",
    "import sympy as sp\n",
    "import numpy as np\n",
    "\n",
    "x = np.array([[2,3],[4,1]])\n",
    "y = np.array([1,-1])\n",
    "\n",
    "print 'x : %s' % x\n",
    "print 'y : %s' % y\n",
    "\n",
    "a0, a1 = sp.symbols('a:2')\n",
    "\n",
    "a_1 = np.array([a0, a1])\n",
    "print 'a_1 : %s' % a_1\n",
    "\n",
    "print 'a0 + a1 : %s' % (a0 + a1)\n",
    "\n",
    "a0a0y0y0x0x0 = a0 * a0 * y[0] * y[0] * np.inner(x[0],x[0])\n",
    "a0a1y0y1x0x1 = a0 * a1 * y[0] * y[1] * np.inner(x[0],x[1])\n",
    "a1a0y1y0x1x0 = a1 * a0 * y[1] * y[0] * np.inner(x[1],x[0])\n",
    "a1a1y1y1x1x1 = a1 * a1 * y[1] * y[1] * np.inner(x[1],x[1])\n",
    "\n",
    "print 'a0a0y0y0x0x0 : %s' % a0a0y0y0x0x0\n",
    "print 'a0a1y0y1x0x1 : %s' % a0a1y0y1x0x1\n",
    "print 'a1a0y1y0x1x0 : %s' % a1a0y1y0x1x0\n",
    "print 'a1a1y1y1x1x1 : %s' % a1a1y1y1x1x1\n",
    "\n",
    "Ld = a0 + a1 - (a0a0y0y0x0x0 + a0a1y0y1x0x1 + a1a0y1y0x1x0 + a1a1y1y1x1x1)/2\n",
    "print 'Ld : %s' % Ld\n",
    "\n",
    "sumay = sum(a_1 * y)\n",
    "print 'sumay : %s' % sumay\n",
    "\n",
    "print 'sp.solve(sumay) : %s' % sp.solve(sumay)\n",
    "print 'sp.solve(sumay, a0) : %s' % sp.solve(sumay, a0)\n",
    "\n",
    "Ld_0 = Ld.subs(a0, a1)\n",
    "print 'Ld_0 : %s' % Ld_0\n",
    "\n",
    "print 'sp.solve(Ld_0, a1) : %s' % sp.solve(Ld_0, a1)\n",
    "\n",
    "Ld_1 = sp.diff(Ld_0, a1)\n",
    "print 'sp.solve(Ld_1) : %s' % sp.solve(Ld_1)\n",
    "\n",
    "\n",
    "ayx = a_1 * y * x\n",
    "print 'ayx : %s' % ayx\n",
    "\n",
    "print 'ayx.sum(axis = 1) : %s' % ayx.sum(axis = 1)\n",
    "\n",
    "sumayx = a0 * y[0] * x[0] + a1 * y[1] * x[1] # ayx.sum(axis = 1)\n",
    "print 'sumayx : %s' % sumayx\n",
    "\n",
    "sp.solve(sumayx, [a0, a1])\n",
    "sp.solve(sumayx, a1)\n",
    "# sumayx.subs(a0, a1)"
   ]
  },
  {
   "cell_type": "code",
   "execution_count": 22,
   "metadata": {
    "collapsed": false
   },
   "outputs": [],
   "source": [
    "import numpy as np\n",
    "import sympy as sp\n",
    "\n",
    "x=np.array([[3,5],[2,3]])\n",
    "y=np.array([1,-1])\n",
    "\n",
    "a0,a1=sp.symbols('a:2')\n",
    "a=np.array([a0,a1])\n",
    "b=sp.symbols('b')"
   ]
  },
  {
   "cell_type": "code",
   "execution_count": 23,
   "metadata": {
    "collapsed": false
   },
   "outputs": [
    {
     "name": "stdout",
     "output_type": "stream",
     "text": [
      "Kernel=[[34 21]\n",
      " [21 13]]\n"
     ]
    }
   ],
   "source": [
    "def KernelLinear(xi,xj):\n",
    "    import numpy as np\n",
    "    return np.inner(xi,xj)\n",
    "\n",
    "K=KernelLinear(x,x)\n",
    "print \"Kernel={0}\".format(K)\n"
   ]
  },
  {
   "cell_type": "code",
   "execution_count": 24,
   "metadata": {
    "collapsed": false
   },
   "outputs": [
    {
     "name": "stdout",
     "output_type": "stream",
     "text": [
      "Ld1=-17.0*a0**2 + 21.0*a0*a1 + a0 - 6.5*a1**2 + a1\n"
     ]
    }
   ],
   "source": [
    "def getLd(a,y,x,xi):\n",
    "    Ld1=sum(a) -0.5*sumaayyk(a,y,x,xi)\n",
    "    return Ld1\n",
    "\n",
    "def sumaayyk(a,y,x,xi):\n",
    "    import numpy as np\n",
    "    _sumaayyk=np.array(sum(np.outer(a,a)*np.outer(y,y)*KernelLinear(x,xi)))\n",
    "    return sum(_sumaayyk)\n",
    "\n",
    "Ld1=sum(a) -0.5*sumaayyk(a,y,x,x)\n",
    "print \"Ld1={0}\".format(Ld1)"
   ]
  },
  {
   "cell_type": "code",
   "execution_count": 25,
   "metadata": {
    "collapsed": false
   },
   "outputs": [
    {
     "name": "stdout",
     "output_type": "stream",
     "text": [
      "[[a0**2 a0*a1]\n",
      " [a0*a1 a1**2]]\n"
     ]
    }
   ],
   "source": [
    "# 위의 outer 연산은 모든 컴비네이션을 만들어 준다.\n",
    "print np.outer(a,a)"
   ]
  },
  {
   "cell_type": "markdown",
   "metadata": {
    "collapsed": true
   },
   "source": [
    "* $\\sum \\alpha y = 0$"
   ]
  },
  {
   "cell_type": "code",
   "execution_count": 26,
   "metadata": {
    "collapsed": false
   },
   "outputs": [
    {
     "name": "stdout",
     "output_type": "stream",
     "text": [
      "sum of ai*yi=0 -->  a0 - a1\n"
     ]
    }
   ],
   "source": [
    "# Ld에 대입하고 -> 미분해서 -> 0으로 놓고 해를 구한다.\n",
    "print \"sum of ai*yi=0 --> \",sum(a*y)"
   ]
  },
  {
   "cell_type": "code",
   "execution_count": 27,
   "metadata": {
    "collapsed": false
   },
   "outputs": [
    {
     "name": "stdout",
     "output_type": "stream",
     "text": [
      "Ld1_a0=a1 =  -2.5*a1**2 + 2*a1\n"
     ]
    }
   ],
   "source": [
    "Ld1_=Ld1.subs(a0,a1)\n",
    "print \"Ld1_a0=a1 = \",Ld1_"
   ]
  },
  {
   "cell_type": "code",
   "execution_count": 28,
   "metadata": {
    "collapsed": false
   },
   "outputs": [
    {
     "name": "stdout",
     "output_type": "stream",
     "text": [
      "Ld2=-5.0*a1 + 2\n",
      "0.400000000000000\n"
     ]
    }
   ],
   "source": [
    "Ld2=sp.diff(Ld1_,a1)\n",
    "print \"Ld2={0}\".format(Ld2)\n",
    "a_1=sp.solve(Ld2,a1)[0]\n",
    "# a_1=a_[0]\n",
    "print a_1"
   ]
  },
  {
   "cell_type": "code",
   "execution_count": 29,
   "metadata": {
    "collapsed": false
   },
   "outputs": [
    {
     "name": "stdout",
     "output_type": "stream",
     "text": [
      "[0.400000000000000, 0.400000000000000]\n"
     ]
    }
   ],
   "source": [
    "sol_a=[a_1,a_1]\n",
    "print sol_a"
   ]
  },
  {
   "cell_type": "markdown",
   "metadata": {},
   "source": [
    "* $w=\\sum_{i=0}^N \\alpha yx$"
   ]
  },
  {
   "cell_type": "code",
   "execution_count": 30,
   "metadata": {
    "collapsed": false
   },
   "outputs": [
    {
     "name": "stdout",
     "output_type": "stream",
     "text": [
      "[0.400000000000000 0.800000000000000]\n"
     ]
    }
   ],
   "source": [
    "def sumayx(alphas,y,x):\n",
    "    ayxT=alphas*y*x.T\n",
    "    return ayxT.sum(axis=1)\n",
    "\n",
    "sol_w=sumayx(np.array(sol_a),y,x)\n",
    "sumayx(np.array(sol_a),y,x)\n",
    "print sol_w"
   ]
  },
  {
   "cell_type": "markdown",
   "metadata": {},
   "source": [
    "$$\n",
    "    \\begin{aligned}\n",
    "        \\sum wx+b &=1 or -1\\\\\n",
    "        y(\\sum wx+b) &=1\\\\\n",
    "        yb &=1-y\\sum wx\\\\\n",
    "        b &= y(1-y\\sum wx)\n",
    "    \\end{aligned}\n",
    "$$"
   ]
  },
  {
   "cell_type": "code",
   "execution_count": 31,
   "metadata": {
    "collapsed": false
   },
   "outputs": [
    {
     "name": "stdout",
     "output_type": "stream",
     "text": [
      "-4.20000000000000 [3 5] 1\n",
      "-4.20000000000000 [2 3] -1\n"
     ]
    }
   ],
   "source": [
    "for xi,yi in zip(x,y):\n",
    "    b=yi*(1-yi*np.inner(sol_w,xi))\n",
    "    print b,xi,yi"
   ]
  },
  {
   "cell_type": "markdown",
   "metadata": {},
   "source": [
    "* decision line을 구하면\n",
    "\n",
    "$w0×x0+w1×x1+b=0w0×x0+w1×x1+b=0$<br>\n",
    "$x1=\\frac{−(w0×x0+b)}{w1}$"
   ]
  },
  {
   "cell_type": "code",
   "execution_count": 32,
   "metadata": {
    "collapsed": false
   },
   "outputs": [
    {
     "data": {
      "image/png": "[encoded data removed]",
      "text/plain": [
       "<matplotlib.figure.Figure at 0x784a320>"
      ]
     },
     "metadata": {},
     "output_type": "display_data"
    }
   ],
   "source": [
    "%matplotlib inline\n",
    "\n",
    "import matplotlib.pyplot as plt\n",
    "import numpy as np\n",
    "\n",
    "x1=np.arange(-5,5,0.1)\n",
    "x2=-(sol_w[0]*x1+b)/sol_w[1]\n",
    "\n",
    "fig=plt.figure()\n",
    "ax = fig.add_subplot(111)\n",
    "ax.set_title('2d hyperplane')\n",
    "ax.set_xlabel('x1')\n",
    "ax.set_ylabel('x2')\n",
    "for i in x:\n",
    "    ax.text(i[0],i[1],i)\n",
    "    plt.scatter(i[0],i[1])\n",
    "plt.plot(x1,x2)\n",
    "#plt.scatter([0,4],[0,4])\n",
    "plt.show()"
   ]
  },
  {
   "cell_type": "code",
   "execution_count": null,
   "metadata": {
    "collapsed": true
   },
   "outputs": [],
   "source": []
  },
  {
   "cell_type": "code",
   "execution_count": null,
   "metadata": {
    "collapsed": true
   },
   "outputs": [],
   "source": []
  },
  {
   "cell_type": "code",
   "execution_count": null,
   "metadata": {
    "collapsed": true
   },
   "outputs": [],
   "source": []
  }
 ],
 "metadata": {
  "kernelspec": {
   "display_name": "Python 2",
   "language": "python",
   "name": "python2"
  },
  "language_info": {
   "codemirror_mode": {
    "name": "ipython",
    "version": 2
   },
   "file_extension": ".py",
   "mimetype": "text/x-python",
   "name": "python",
   "nbconvert_exporter": "python",
   "pygments_lexer": "ipython2",
   "version": "2.7.11"
  }
 },
 "nbformat": 4,
 "nbformat_minor": 0
}
