{
 "cells": [
  {
   "cell_type": "markdown",
   "metadata": {},
   "source": [
    "## 5장 로지스틱 회귀"
   ]
  },
  {
   "cell_type": "code",
   "execution_count": 7,
   "metadata": {
    "collapsed": false
   },
   "outputs": [
    {
     "name": "stdout",
     "output_type": "stream",
     "text": [
      "[3 8]\n",
      "11\n",
      "11\n"
     ]
    }
   ],
   "source": [
    "# 매트릭스 롭이 내적으로 계산 되는 것 확인\n",
    "import numpy as np\n",
    "v1=np.array([1,2])\n",
    "v2=np.array([3,4])\n",
    "print v1*v2\n",
    "\n",
    "print v1.dot(v2)\n",
    "print np.inner(v1,v2)"
   ]
  },
  {
   "cell_type": "code",
   "execution_count": 5,
   "metadata": {
    "collapsed": false
   },
   "outputs": [
    {
     "name": "stdout",
     "output_type": "stream",
     "text": [
      "[[3 4]\n",
      " [6 8]]\n",
      "[[11]]\n"
     ]
    }
   ],
   "source": [
    "m1=np.mat(v1)\n",
    "m2=np.mat(v2)\n",
    "print m1.T*m2\n",
    "print m1*m2.T"
   ]
  },
  {
   "cell_type": "code",
   "execution_count": 8,
   "metadata": {
    "collapsed": false
   },
   "outputs": [
    {
     "data": {
      "image/png": "[encoded data removed]",
      "text/plain": [
       "<matplotlib.figure.Figure at 0x2b784a8>"
      ]
     },
     "metadata": {},
     "output_type": "display_data"
    },
    {
     "data": {
      "image/png": "[encoded data removed]",
      "text/plain": [
       "<matplotlib.figure.Figure at 0x68425c0>"
      ]
     },
     "metadata": {},
     "output_type": "display_data"
    },
    {
     "data": {
      "image/png": "[encoded data removed]",
      "text/plain": [
       "<matplotlib.figure.Figure at 0x6842400>"
      ]
     },
     "metadata": {},
     "output_type": "display_data"
    }
   ],
   "source": [
    "%matplotlib inline\n",
    "from numpy import *\n",
    "import matplotlib.pyplot as plt\n",
    "\n",
    "# sigmaoid를 계산하는 함수\n",
    "def sigmoid(inX):\n",
    "    return 1.0/(1+exp(-inX))\n",
    "\n",
    "def plotSigmoid(inX):\n",
    "    fig = plt.figure() # 그림을 그릴 공간을 만듬\n",
    "    ax = fig.add_subplot(111) # 1X1 공간의 1번 공간에 ax 그래프를 만듬\n",
    "    x = arange(-inX, inX, 0.005) # 0.005 = Spacing between values\n",
    "    y = sigmoid(x)\n",
    "    ax.plot(x, y)\n",
    "    plt.xlabel('X'); plt.ylabel('Sigmoid(X)');\n",
    "    plt.show()\n",
    "    \n",
    "plotSigmoid(5)\n",
    "plotSigmoid(10)\n",
    "plotSigmoid(50)"
   ]
  },
  {
   "cell_type": "markdown",
   "metadata": {
    "collapsed": true
   },
   "source": [
    "### 기울기 상승, 하강과 비슷한 알고리즘\n",
    "- quadratic programming\n",
    "- matlab cvx"
   ]
  },
  {
   "cell_type": "code",
   "execution_count": 22,
   "metadata": {
    "collapsed": false
   },
   "outputs": [
    {
     "data": {
      "text/plain": [
       "matrix([[ 4.12414349],\n",
       "        [ 0.48007329],\n",
       "        [-0.6168482 ]])"
      ]
     },
     "execution_count": 22,
     "metadata": {},
     "output_type": "execute_result"
    }
   ],
   "source": [
    "from python_week06 import logRegres\n",
    "import numpy as np\n",
    "\n",
    "def loadDataSet():\n",
    "    dataMat = []; labelMat = []\n",
    "    fr = open('python_week06/testSet.txt')\n",
    "    for line in fr.readlines(): # 메모리에 올리지 않고 한줄 씩 접근\n",
    "        lineArr = line.strip().split()\n",
    "        dataMat.append([1.0, float(lineArr[0]), float(lineArr[1])]) # b, X1, X2 <= b 자리를 1.0 으로 대체\n",
    "        labelMat.append(int(lineArr[2]))\n",
    "    return dataMat,labelMat\n",
    "\n",
    "def sigmoid(inX):\n",
    "    return 1.0/(1+np.exp(-inX))\n",
    "\n",
    "def gradAscent(dataMatIn, classLabels):\n",
    "    dataMatrix = np.mat(dataMatIn)             #convert to NumPy matrix\n",
    "    labelMat = np.mat(classLabels).transpose() #convert to NumPy matrix\n",
    "    m,n = np.shape(dataMatrix)\n",
    "    alpha = 0.001\n",
    "    maxCycles = 500\n",
    "    weights = np.ones((n,1))\n",
    "    for k in range(maxCycles):              #heavy on matrix operations\n",
    "        h = sigmoid(dataMatrix*weights)     #matrix mult\n",
    "        error = (labelMat - h)              #vector subtraction\n",
    "        weights = weights + alpha * dataMatrix.transpose()* error # 3x1 + 스칼라 * 3x100 * 100x1\n",
    "#         print ('h: %s / error: %s / weights: %s' %(h, error, weights))\n",
    "    return weights\n",
    "\n",
    "dataArr, labelMat = loadDataSet()\n",
    "# print dataArr\n",
    "# print labelMat\n",
    "gradAscent(dataArr, labelMat)"
   ]
  },
  {
   "cell_type": "code",
   "execution_count": 21,
   "metadata": {
    "collapsed": false
   },
   "outputs": [
    {
     "name": "stdout",
     "output_type": "stream",
     "text": [
      "[[ 1.]\n",
      " [ 1.]\n",
      " [ 1.]]\n"
     ]
    }
   ],
   "source": [
    "import numpy as np\n",
    "o1 = np.ones(3)\n",
    "o2 = np.ones((3,1))\n",
    "print(o2)"
   ]
  },
  {
   "cell_type": "markdown",
   "metadata": {
    "collapsed": true
   },
   "source": [
    "### 그래프로 그려보기"
   ]
  },
  {
   "cell_type": "code",
   "execution_count": 27,
   "metadata": {
    "collapsed": false
   },
   "outputs": [
    {
     "name": "stdout",
     "output_type": "stream",
     "text": [
      "[[ 4.12414349]\n",
      " [ 0.48007329]\n",
      " [-0.6168482 ]]\n"
     ]
    },
    {
     "data": {
      "image/png": "[encoded data removed]",
      "text/plain": [
       "<matplotlib.figure.Figure at 0x7f88e48>"
      ]
     },
     "metadata": {},
     "output_type": "display_data"
    }
   ],
   "source": [
    "def plotBestFit(weights):\n",
    "    # print \"Weights type :\", type(weights)\n",
    "    # import matplotlib.pyplot as plt    #그래프를 그릴 모듈을 import\n",
    "    dataMat,labelMat=loadDataSet()    #표현할 data를 불러 옴\n",
    "    dataArr = array(dataMat)    #dataMat은 list 타입이므로 numpy의 Array 타입으로 변경\n",
    "    n = shape(dataArr)[0]    #dataArr의 형태를 나타내는 첫번째 요소(열의 갯수)를 가져옴\n",
    "    xcord1 = []; ycord1 = []    #첫 번째 그룹을 표현할 list를 생성\n",
    "    xcord2 = []; ycord2 = []    #두 번째 그룹을 표현할 list를 생성\n",
    "    for i in range(n):    #전체 열 만큼 loop를 실행\n",
    "        if int(labelMat[i])== 1:    #1번 그룹이면\n",
    "            xcord1.append(dataArr[i,1]); ycord1.append(dataArr[i,2])\n",
    "        else:    #1번 그룹이 아니면\n",
    "            xcord2.append(dataArr[i,1]); ycord2.append(dataArr[i,2])\n",
    "    fig = plt.figure()    #그림을 그릴 공간을 만듬\n",
    "    ax = fig.add_subplot(111)    #1X1 공간의 1번 공간에 ax 그래프를 만듬\n",
    "    \n",
    "    ax.scatter(xcord1, ycord1, s=30, c='red', marker='s')\n",
    "    ax.scatter(xcord2, ycord2, s=30, c='green')\n",
    "    x = arange(-3.0, 3.0, 0.1)\n",
    "    y = (-weights[0]-weights[1]*x)/weights[2]    #최적선 - 시그모이드 함수를 0으로 설정하였음\n",
    "    ax.plot(x, y)\n",
    "    plt.xlabel('X1'); plt.ylabel('X2');\n",
    "    plt.show()\n",
    "\n",
    "weights = gradAscent(dataArr, labelMat)\n",
    "print weights.getA()\n",
    "plotBestFit(weights.getA())"
   ]
  },
  {
   "cell_type": "markdown",
   "metadata": {
    "collapsed": true
   },
   "source": [
    "#### 확률 기울기 상승"
   ]
  },
  {
   "cell_type": "code",
   "execution_count": 31,
   "metadata": {
    "collapsed": false
   },
   "outputs": [
    {
     "name": "stdout",
     "output_type": "stream",
     "text": [
      "확률 기울기 상승을 통한 로지스틱 회귀 최적선\n"
     ]
    },
    {
     "data": {
      "image/png": "[encoded data removed]",
      "text/plain": [
       "<matplotlib.figure.Figure at 0x7f88710>"
      ]
     },
     "metadata": {},
     "output_type": "display_data"
    },
    {
     "name": "stdout",
     "output_type": "stream",
     "text": [
      "[ 1.01702007  0.85914348 -0.36579921]\n"
     ]
    }
   ],
   "source": [
    "\"\"\"\n",
    "상승 Gradiant를 계산하는 함수\n",
    "input: dataMatrix, classLabels\n",
    "output: weights\n",
    "\"\"\"\n",
    "def stocGradAscent0(dataMatrix, classLabels):\n",
    "    m,n = shape(dataMatrix)\n",
    "    alpha = 0.01\n",
    "    weights = ones(n)   #initialize to all ones\n",
    "    for i in range(m):\n",
    "        h = sigmoid(sum(dataMatrix[i]*weights))\n",
    "        error = classLabels[i] - h\n",
    "        #변수 h와 error가 더 이상 벡터가 아니라 단일 값이다.\n",
    "        weights = weights + alpha * error * dataMatrix[i]\n",
    "#         print dataMatrix[i]*weights # 1x3\n",
    "    return weights\n",
    "\n",
    "dataArr, labelMat = loadDataSet()\n",
    "weights = stocGradAscent0(array(dataArr), labelMat)\n",
    "print('확률 기울기 상승을 통한 로지스틱 회귀 최적선')\n",
    "plotBestFit(weights)\n",
    "print weights"
   ]
  },
  {
   "cell_type": "markdown",
   "metadata": {
    "collapsed": true
   },
   "source": [
    "#### 수정된 확률 기울기 상승"
   ]
  },
  {
   "cell_type": "code",
   "execution_count": 32,
   "metadata": {
    "collapsed": false
   },
   "outputs": [
    {
     "data": {
      "image/png": "[encoded data removed]",
      "text/plain": [
       "<matplotlib.figure.Figure at 0x7a0e9b0>"
      ]
     },
     "metadata": {},
     "output_type": "display_data"
    },
    {
     "name": "stdout",
     "output_type": "stream",
     "text": [
      "[ 13.88307545   1.02400885  -2.04587796]\n"
     ]
    }
   ],
   "source": [
    "\"\"\"\n",
    "상승 Gradiant를 계산하는 함수 수정 - alpha의 값을 변경해주고, random한 data를 추출하여 weight를 계산\n",
    "input: dataMatrix, classLabels, numIter\n",
    "output: weights\n",
    "\"\"\"\n",
    "def stocGradAscent1(dataMatrix, classLabels, numIter=150):\n",
    "    m,n = shape(dataMatrix)\n",
    "    weights = ones(n)   #initialize to all ones\n",
    "    for j in range(numIter):\n",
    "        dataIndex = range(m)    #0~m-1까지의 index번호가 같은 배열을 생성(할당)\n",
    "        for i in range(m):\n",
    "            alpha = 4/(1.0+j+i)+0.01    #apha decreases with iteration, does not \n",
    "            #알고리즘이 반복될 때 마다 alpha 값 변경 - 높은 빈도의 진동을 개선(반복할 때 마다 alpha값 작아짐)\n",
    "            #일정한 간격(0.01)이 있기 때문에 절대로 0에 도달하지 못함(시간에 따라 변화하는 문제에 대응하기 위해) \n",
    "            randIndex = int(random.uniform(0,len(dataIndex)))#go to 0 because of the constant\n",
    "            #동일한 data를 두번 접근하지 않게 하기 위해 uniform하게 생성            \n",
    "            h = sigmoid(sum(dataMatrix[randIndex]*weights))\n",
    "            error = classLabels[randIndex] - h\n",
    "            weights = weights + alpha * error * dataMatrix[randIndex]\n",
    "            del(dataIndex[randIndex])    #할당된 배열을 해제\n",
    "    return weights\n",
    "\n",
    "dataArr, labelMat = loadDataSet()\n",
    "weights = stocGradAscent1(array(dataArr), labelMat)\n",
    "plotBestFit(weights)\n",
    "print weights"
   ]
  },
  {
   "cell_type": "code",
   "execution_count": 33,
   "metadata": {
    "collapsed": false
   },
   "outputs": [
    {
     "data": {
      "image/png": "[encoded data removed]",
      "text/plain": [
       "<matplotlib.figure.Figure at 0x79c4cf8>"
      ]
     },
     "metadata": {},
     "output_type": "display_data"
    },
    {
     "name": "stdout",
     "output_type": "stream",
     "text": [
      "[ 15.04123183   1.10716075  -2.15372082]\n"
     ]
    }
   ],
   "source": [
    "weights = stocGradAscent1(array(dataArr), labelMat, 500)\n",
    "plotBestFit(weights)\n",
    "print weights"
   ]
  },
  {
   "cell_type": "markdown",
   "metadata": {
    "collapsed": true
   },
   "source": [
    "### 예제 : 말의 배앓이 치사율"
   ]
  },
  {
   "cell_type": "code",
   "execution_count": 34,
   "metadata": {
    "collapsed": false
   },
   "outputs": [
    {
     "name": "stdout",
     "output_type": "stream",
     "text": [
      "the error rate of this test is: 0.253731\n",
      "the error rate of this test is: 0.268657\n",
      "the error rate of this test is: 0.373134\n",
      "the error rate of this test is: 0.283582\n",
      "the error rate of this test is: 0.358209\n",
      "the error rate of this test is: 0.358209\n",
      "the error rate of this test is: 0.358209\n",
      "the error rate of this test is: 0.343284\n",
      "the error rate of this test is: 0.358209\n",
      "the error rate of this test is: 0.373134\n",
      "after 10 iterations the average error rate is: 0.332836\n"
     ]
    },
    {
     "name": "stderr",
     "output_type": "stream",
     "text": [
      "python_week06\\logRegres.py:19: RuntimeWarning: overflow encountered in exp\n",
      "  return 1.0/(1+exp(-inX))\n"
     ]
    }
   ],
   "source": [
    "from python_week06 import logRegres\n",
    "import numpy as np\n",
    "\n",
    "def classifyVector(inX, weights):\n",
    "    prob = sigmoid(sum(inX*weights))\n",
    "    if prob > 0.5: return 1.0\n",
    "    else: return 0.0\n",
    "\n",
    "def colicTest():\n",
    "    frTrain = open('python_week06/horseColicTraining.txt'); frTest = open('python_week06/horseColicTest.txt')\n",
    "    trainingSet = []; trainingLabels = []\n",
    "    for line in frTrain.readlines():\n",
    "        currLine = line.strip().split('\\t')\n",
    "        lineArr =[]\n",
    "        for i in range(21):\n",
    "            lineArr.append(float(currLine[i]))\n",
    "        trainingSet.append(lineArr)\n",
    "        trainingLabels.append(float(currLine[21]))\n",
    "    trainWeights = stocGradAscent1(np.array(trainingSet), trainingLabels, 1000)\n",
    "    errorCount = 0; numTestVec = 0.0\n",
    "    for line in frTest.readlines():\n",
    "        numTestVec += 1.0\n",
    "        currLine = line.strip().split('\\t')\n",
    "        lineArr =[]\n",
    "        for i in range(21):\n",
    "            lineArr.append(float(currLine[i]))\n",
    "        if int(classifyVector(np.array(lineArr), trainWeights))!= int(currLine[21]):\n",
    "            errorCount += 1\n",
    "    errorRate = (float(errorCount)/numTestVec)\n",
    "    print \"the error rate of this test is: %f\" % errorRate\n",
    "    return errorRate\n",
    "\n",
    "def multiTest():\n",
    "    numTests = 10; errorSum=0.0\n",
    "    for k in range(numTests):\n",
    "        errorSum += colicTest()\n",
    "    print \"after %d iterations the average error rate is: %f\" % (numTests, errorSum/float(numTests))\n",
    "\n",
    "    \n",
    "reload(logRegres)\n",
    "logRegres.multiTest()"
   ]
  }
 ],
 "metadata": {
  "kernelspec": {
   "display_name": "Python 2",
   "language": "python",
   "name": "python2"
  },
  "language_info": {
   "codemirror_mode": {
    "name": "ipython",
    "version": 2
   },
   "file_extension": ".py",
   "mimetype": "text/x-python",
   "name": "python",
   "nbconvert_exporter": "python",
   "pygments_lexer": "ipython2",
   "version": "2.7.11"
  }
 },
 "nbformat": 4,
 "nbformat_minor": 0
}
