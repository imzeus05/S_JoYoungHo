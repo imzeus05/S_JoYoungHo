{
 "cells": [
  {
   "cell_type": "markdown",
   "metadata": {},
   "source": [
    "#### 다음 주 텍스트마이닝 과제 진행\n",
    ">- 웹에 있는 텍스트에서 정서를 뽑아내는 것\n",
    ">- 중간까지 하나 기말까지 하나\n",
    ">- 주제 : 정서분류 --> 긍정, 부정 or 감정\n",
    ">- 한국문화, 한류 등\n",
    ">- 4/26(화) 까지 Github에 업로드\n",
    ">  - 데이터\n",
    ">  - 보고서 - 가설, 연구방법, 결론\n",
    ">  - 실행프로그램 (책에 있는 내용으로)\n",
    "> - 데이터수집\n",
    ">  - 웹에서 300 doc (300 문장)\n",
    ">  - 테스트와 트레인으로 나눠서 진행\n",
    "\n",
    "\n",
    "## 5장. 로지스틱 회귀\n",
    "\n",
    "#### OLS (최소자승법)을 사용해도 되고 Gradient 방법도 있고 방법은 여러가지가 있다.\n",
    "#### 선형인지 비선형인지 잘 구분해야 한다.\n",
    "\n",
    "#### 베이지안은 확률이 크고 작고로 판단하고 로지스틱은 0.5를 기준으로 한다."
   ]
  },
  {
   "cell_type": "code",
   "execution_count": null,
   "metadata": {
    "collapsed": true
   },
   "outputs": [],
   "source": []
  },
  {
   "cell_type": "code",
   "execution_count": null,
   "metadata": {
    "collapsed": true
   },
   "outputs": [],
   "source": []
  }
 ],
 "metadata": {
  "kernelspec": {
   "display_name": "Python 2",
   "language": "python",
   "name": "python2"
  },
  "language_info": {
   "codemirror_mode": {
    "name": "ipython",
    "version": 2
   },
   "file_extension": ".py",
   "mimetype": "text/x-python",
   "name": "python",
   "nbconvert_exporter": "python",
   "pygments_lexer": "ipython2",
   "version": "2.7.11"
  }
 },
 "nbformat": 4,
 "nbformat_minor": 0
}
